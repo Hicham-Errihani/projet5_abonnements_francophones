{
 "cells": [
  {
   "cell_type": "code",
   "execution_count": 1,
   "id": "8a1a2c44-5e01-4ade-87ec-b4711bc05cce",
   "metadata": {},
   "outputs": [
    {
     "name": "stdout",
     "output_type": "stream",
     "text": [
      "Estimation des abonnements par base de données :\n",
      "\n",
      "  Nom de la base  Nombre d'abonnements estimé\n",
      "0     Cairn.info                         1500\n",
      "1         Érudit                          850\n",
      "2         Persée                         1200\n",
      "3    OpenEdition                         1300\n",
      "\n",
      "✅ Fichier CSV 'abonnes_bases_francophones.csv' créé avec succès.\n"
     ]
    }
   ],
   "source": [
    "import pandas as pd\n",
    "\n",
    "# Exemple fictif de données (à adapter selon les sources réelles)\n",
    "bases = [\n",
    "    {\"Nom de la base\": \"Cairn.info\", \"Nombre d'abonnements estimé\": 1500},\n",
    "    {\"Nom de la base\": \"Érudit\", \"Nombre d'abonnements estimé\": 850},\n",
    "    {\"Nom de la base\": \"Persée\", \"Nombre d'abonnements estimé\": 1200},\n",
    "    {\"Nom de la base\": \"OpenEdition\", \"Nombre d'abonnements estimé\": 1300}\n",
    "]\n",
    "\n",
    "# Création du DataFrame\n",
    "df = pd.DataFrame(bases)\n",
    "\n",
    "# Affichage\n",
    "print(\"Estimation des abonnements par base de données :\\n\")\n",
    "print(df)\n",
    "\n",
    "# Export en CSV\n",
    "df.to_csv(\"abonnes_bases_francophones.csv\", index=False, encoding=\"utf-8-sig\")\n",
    "print(\"\\n✅ Fichier CSV 'abonnes_bases_francophones.csv' créé avec succès.\")\n"
   ]
  },
  {
   "cell_type": "code",
   "execution_count": null,
   "id": "e4c7fa37-a3eb-4a89-8b4f-e45e9efeab5a",
   "metadata": {},
   "outputs": [],
   "source": []
  },
  {
   "cell_type": "code",
   "execution_count": null,
   "id": "952bb6d1-3f60-4d20-b7bf-d6c5f2103602",
   "metadata": {},
   "outputs": [],
   "source": []
  }
 ],
 "metadata": {
  "kernelspec": {
   "display_name": "Python 3 (ipykernel)",
   "language": "python",
   "name": "python3"
  },
  "language_info": {
   "codemirror_mode": {
    "name": "ipython",
    "version": 3
   },
   "file_extension": ".py",
   "mimetype": "text/x-python",
   "name": "python",
   "nbconvert_exporter": "python",
   "pygments_lexer": "ipython3",
   "version": "3.10.12"
  }
 },
 "nbformat": 4,
 "nbformat_minor": 5
}
